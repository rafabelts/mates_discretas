{
 "cells": [
  {
   "cell_type": "markdown",
   "metadata": {},
   "source": [
    "![Logo Network]()\n",
    "\n",
    "NetworkX es un paquete de python que permite crear y analizar redes. \n",
    "\n",
    "## Instalación\n",
    "\n",
    "Para instalar NetworkX, primero debemos instalar el paquete `pip`. Luego, podemos instalar NetworkX utilizando el siguiente comando:\n",
    "\n",
    "```bash\n",
    "pip install networkx\n",
    "```\n",
    "\n",
    "Una vez instalado, podemos importar la librería y comenzar a utilizarla en nuestro código.\n",
    "\n",
    "## Conceptos básicos\n",
    "\n",
    "NetworkX proporciona una amplia gama de funciones y métodos para crear y analizar redes. Algunos de los conceptos básicos que se utilizan en NetworkX incluyen:\n",
    "\n",
    "- Grafos: Los grafos son una representación de redes en el que cada nodo es una unidad de información y cada arista es una relación entre dos nodos.      \n",
    "- Nodos: Los nodos son los puntos de interacción en la red y representan la información que se comparte entre los nodos. \n",
    "- Aristas: Las aristas son las relaciones entre los nodos y representan la conexión entre dos nodos.        "
   ]
  },
  {
   "cell_type": "code",
   "execution_count": null,
   "metadata": {},
   "outputs": [],
   "source": [
    "import networkx as nx\n",
    "import matplotlib.pyplot as plt\n",
    "import numpy as np\n",
    "import pandas as pd\n",
    "\n",
    "from sklearn.model_selection import train_test_split\n",
    "from sklearn.preprocessing import StandardScaler\n",
    "from sklearn.metrics import mean_squared_error\n",
    "\n",
    "import os\n",
    "os.environ['PYTHONHASHSEED'] = '0'\n",
    "\n",
    "# In[1]:\n",
    "\n",
    "\n",
    "def load_data(path):\n",
    "    df = pd.read_csv(path)\n",
    "    df = df.dropna(subset=['y'])\n",
    "    return df\n",
    "\n",
    "\n",
    "# In[2]:\n",
    "\n",
    "\n",
    "df = load_data('data/train.csv')\n",
    "X = df.drop('y', axis=1)\n",
    "y = df['y']\n",
    "\n",
    "\n",
    "# In[3]:\n",
    "\n",
    "\n",
    "X_train, X_test, y_train, y_test = train_test_split(X, y, test_size=0.2, random_state=42)\n",
    "\n",
    "\n",
    "# In[4]:\n",
    "\n",
    "\n",
    "scaler = StandardScaler()\n",
    "X_train = scaler.fit_transform(X_train)                 "
   ]
  }
 ],
 "metadata": {
  "kernelspec": {
   "display_name": "Python 3",
   "language": "python",
   "name": "python3"
  },
  "language_info": {
   "name": "python",
   "version": "3.11.7"
  }
 },
 "nbformat": 4,
 "nbformat_minor": 2
}
