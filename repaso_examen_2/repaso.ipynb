{
 "cells": [
  {
   "cell_type": "markdown",
   "metadata": {},
   "source": [
    "# Teoría de conjuntos\n",
    "Rama lógica-matemática que se encarga del estudio de las relaciones entre entidades denominadas como conjuntos\n",
    "\n",
    "**Clasificación**: Acción de asociar una cosa o ser, a una determinada directiva, es decir la busqueda en un todo de todas aquellas cosas que guardan o comparten algun tipo de relación para así agruparlas\n",
    "\n",
    "**Conjunto**: Colección bien definida de objetos distintos, llamados elementos o miembros que cumplen con ciertas propiedades"
   ]
  },
  {
   "cell_type": "code",
   "execution_count": 1,
   "metadata": {},
   "outputs": [],
   "source": [
    "A = {1, 2, 3, 4} # Se define conjunto A\n",
    "B = {3, 4, 5, 6, 7} # Se define conjunto B\n",
    "\n",
    "\n",
    "# Convertir lista a conjunto\n",
    "lista = [1, 2, 3, 4, 5, 1, 2, 3, 4, 5]\n",
    "conjunto = set(lista) # Convertir lista a conjunto"
   ]
  },
  {
   "cell_type": "markdown",
   "metadata": {},
   "source": [
    "## Operaciones\n",
    "### Unión \n",
    "Operación que combina dos conjuntos para formar un nuevo conjunto que contiene todos los elementos que pertenecen a al menos uno de los conjuntos originales sin duplicados. Formalmente:\n",
    "**Si A y B son conjuntos, la unión de A y B se define como el conjunto C que contiene todos los elementos que pertenecen a A , a B, o a ambos** <br>\n",
    "$C $= $A \\cap B$ = $x : x \\in A$ o $x \\in B$\n",
    "<br>En python"
   ]
  },
  {
   "cell_type": "code",
   "execution_count": 2,
   "metadata": {},
   "outputs": [
    {
     "data": {
      "text/plain": [
       "{1, 2, 3, 4, 5, 6, 7}"
      ]
     },
     "execution_count": 2,
     "metadata": {},
     "output_type": "execute_result"
    }
   ],
   "source": [
    "A | B\n",
    "A.union(B)"
   ]
  }
 ],
 "metadata": {
  "kernelspec": {
   "display_name": "Python 3",
   "language": "python",
   "name": "python3"
  },
  "language_info": {
   "codemirror_mode": {
    "name": "ipython",
    "version": 3
   },
   "file_extension": ".py",
   "mimetype": "text/x-python",
   "name": "python",
   "nbconvert_exporter": "python",
   "pygments_lexer": "ipython3",
   "version": "3.9.6"
  }
 },
 "nbformat": 4,
 "nbformat_minor": 2
}
