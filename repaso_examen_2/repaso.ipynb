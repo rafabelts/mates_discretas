{
 "cells": [
  {
   "cell_type": "markdown",
   "metadata": {},
   "source": [
    "# Teoría de conjuntos\n",
    "Rama lógica-matemática que se encarga del estudio de las relaciones entre entidades denominadas como conjuntos\n",
    "\n",
    "**Clasificación**: La busqueda en un todo de todas aquellas cosas que guardan o comparten algun tipo de relación para así agruparlas\n",
    "\n",
    "**Conjunto**: Colección bien definida de objetos distintos, llamados elementos o miembros que cumplen con ciertas propiedades"
   ]
  },
  {
   "cell_type": "code",
   "execution_count": 6,
   "metadata": {},
   "outputs": [],
   "source": [
    "A = {1, 2, 3, 4} # Se define conjunto A\n",
    "B = {3, 4, 5, 6, 7} # Se define conjunto B\n",
    "\n",
    "\n",
    "# Convertir lista a conjunto\n",
    "lista = [1, 2, 3, 4, 5, 1, 2, 3, 4, 5]\n",
    "conjunto = set(lista) # Convertir lista a conjunto"
   ]
  },
  {
   "cell_type": "markdown",
   "metadata": {},
   "source": [
    "## Operaciones\n",
    "### Unión \n",
    "**Si A y B son conjuntos, la unión de A y B se define como el conjunto C que contiene todos los elementos que pertenecen a A , a B, o a ambos** <br>\n",
    "$C $= $A \\cap B$ $= x$ : $x \\in A$ o $x \\in B$\n",
    "<br>En python"
   ]
  },
  {
   "cell_type": "code",
   "execution_count": 7,
   "metadata": {},
   "outputs": [
    {
     "data": {
      "text/plain": [
       "{1, 2, 3, 4, 5, 6, 7}"
      ]
     },
     "execution_count": 7,
     "metadata": {},
     "output_type": "execute_result"
    }
   ],
   "source": [
    "A | B\n",
    "A.union(B)"
   ]
  },
  {
   "cell_type": "markdown",
   "metadata": {},
   "source": [
    "### Intersección\n",
    "**Si A y B son conjuntos, la intersección de A y B se define como el conjunto C que contiene todos los elementos que pertenecen tanto a A como a B** <br>\n",
    "$C $= $A \\cup B$ $= x$ : $x \\in A$ y $x \\in B$"
   ]
  },
  {
   "cell_type": "code",
   "execution_count": 8,
   "metadata": {},
   "outputs": [
    {
     "data": {
      "text/plain": [
       "{3, 4}"
      ]
     },
     "execution_count": 8,
     "metadata": {},
     "output_type": "execute_result"
    }
   ],
   "source": [
    "A & B\n",
    "A.intersection(B)"
   ]
  },
  {
   "cell_type": "markdown",
   "metadata": {},
   "source": [
    "### Diferencia\n",
    "**Si A y B son conjuntos, la diferencia de A y B se define como el conjunto C que contiene todos los elementos que pertenecen a A pero no a B** \n",
    "$C $= $A - B$ $= x$:$x \\in A$ y $A \\notin B$ "
   ]
  },
  {
   "cell_type": "code",
   "execution_count": 9,
   "metadata": {},
   "outputs": [
    {
     "data": {
      "text/plain": [
       "{1, 2}"
      ]
     },
     "execution_count": 9,
     "metadata": {},
     "output_type": "execute_result"
    }
   ],
   "source": [
    "A - B\n",
    "A.difference(B)"
   ]
  },
  {
   "cell_type": "markdown",
   "metadata": {},
   "source": [
    "### Diferencia simétrica\n",
    "**Si A y B son conjuntos, la diferencia de A y B se define como el conjunto C que contiene todos los elementos que pertenecen a A o a B, pero no a ambos conjuntos simultáneamente** <br>\n",
    "$C $= $A \\triangle B$ $= x$(: $x \\in A$ o $x \\in B$) y ($x \\notin A$ y $x \\notin B$)"
   ]
  },
  {
   "cell_type": "markdown",
   "metadata": {},
   "source": [
    "## Relaciones\n",
    "**Producto cartesiano**: Dados conjuntos A y B, el producto cartesiano de A y B, denotado por A x B, es el conjunto de todos los pares ordenados (a, b), tal que a está en A y b está en B.<br>\n",
    "$A x B$ = {($a, b$) | $a \\in A$ ^ $b \\in B$} <br>\n",
    "($a, b$)$  \\in A$ x $B \\leftrightarrow$ $a \\in A$ ^ $b \\in B$\n",
    "\n",
    "**Par ordenado**: Asociación de dos elementos a y b tales que el primer elemento es **a** y el segundo es **b**. Se denota **(a, b)**\n",
    "\n",
    "### Relación\n",
    "Sean **A** y **B**, una relación de **A** a **B** es un subconjunto de **A** x **B**\n",
    "\n",
    "Suponiendo que **R** es una relación de **A** a **B**, entonces **R** es un conjunto de pares ordenados donde el primer elemento proviene de **A** y el segundo de **B**<br>\n",
    "($a, b$) $\\in R$ -> se dice que \"a  está  relacionado  con  B\", aRb$<br>\n",
    "($a, b$) $\\notin R$ -> se dice que \"a no está relacionado con B\", a-R-b$\n",
    "\n",
    "**Dominio**: El dominio de una relación R es el conjunto de todos los primeros elementos de los pares ordenados que pertenecen a R<br>\n",
    "**Rango**: El rango de una relación R es el conjunto de todos los segundos elementos de los pares ordenados que pertenecen a R (conocido como imagen y recorrido)\n",
    "\n",
    "#### Tipos \n",
    "**Relación inversa**: \n",
    "Sea R la relación de un conjunto A con un conjunto B. La inversa de R, es la relacion de B y A que consta de los pares ordenados que, cuando se invierten pertenecen a R, es decir: <br>\n",
    "R^(-1) = {($b, a$) | ($a, b$) $\\in R$}\n",
    "\n",
    "**Relación reflexiva**: \n",
    "Una relación R sobre un conjunto es reflexiva si aRa para toda a $\\in A$; es decir, sí (a, a) $\\in R$ para toda a $\\in A$. Por tanto R no es reflexiva si existe a $\\in A$ tal que (a, a) $\\notin R$\n",
    "\n",
    "**Relación simétrica**: \n",
    "Es \"simétrica\" cuando todas las parejas de la relación tienen su recíproco; es decir para elementos x, y de A se cumple que si xRy, entonces yRx\n",
    "\n",
    "**Relación antisimétrica**: \n",
    "Es \"asimétrica\" cuando ninguna pareja de la relación tiene su recíproco; es decir para elementos x, y de A se cumple que si (x, y) $\\in R$, entonces (y, x) $\\notin R$, pero, si (x, y) $\\in R$ y (y, x) $\\in R$, entonces x = y\n",
    "\n",
    "**Relación no simétrica**: \n",
    "Cuando algunas parejas son simetricas o tienen su reciproco y otras no lo tienen; es decir, no todas las parejas cumplen que si (x, y) $\\in R$, entonces (y, x) $\\notin R$; es decir algunas parejas cumplen que si (x, y) $\\in R$, entonces (y, x) $\\notin R$\n",
    "\n",
    "**Relación transitiva**: \n",
    "Es transitiva si siempre que aRb y bRc entonces aRc; es decir, siempre que (a, b), (b, c) $\\in R$ entonces (a, c) $\\in R$, no es transitiva si existe, a, b, c $\\in R$ tal que (a, b), (a, c) $\\in R$ pero (a, c) $\\notin R$\n",
    "Informalmente -> Si cualquier elemento está relacionado con el segundo y el segundo esta relacionado con el tercero, entonces, el primer elemento esta relacionado con el tercero\n",
    "\n"
   ]
  },
  {
   "cell_type": "markdown",
   "metadata": {},
   "source": [
    "## Funciones\n",
    "A cada elemento de un conjunto A se asigna un único elemento del conjunto B; la colección de estas asignaciones se denomina función de A en B. El conjunto A es el dominio de la función y el conjunto B es el codominio o conjunto objetivo <br>\n",
    "$f: A$ $\\rightarrow B$ <br>\n",
    "f es una función de A en B\n",
    "\n",
    "Es una relación del dominio A, al codominio B, satisface la propiedad <br>\n",
    "Cada elemento en A tiene un único elemento en B\n"
   ]
  }
 ],
 "metadata": {
  "kernelspec": {
   "display_name": "Python 3",
   "language": "python",
   "name": "python3"
  },
  "language_info": {
   "codemirror_mode": {
    "name": "ipython",
    "version": 3
   },
   "file_extension": ".py",
   "mimetype": "text/x-python",
   "name": "python",
   "nbconvert_exporter": "python",
   "pygments_lexer": "ipython3",
   "version": "3.9.6"
  }
 },
 "nbformat": 4,
 "nbformat_minor": 2
}
